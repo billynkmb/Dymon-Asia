{
 "cells": [
  {
   "cell_type": "code",
   "execution_count": 1,
   "id": "1cc65c59",
   "metadata": {},
   "outputs": [
    {
     "name": "stdout",
     "output_type": "stream",
     "text": [
      "C:\\Users\\billy\\Desktop\\billy_job_application\\Dymon_Asia\n"
     ]
    }
   ],
   "source": [
    "cd C:\\Users\\billy\\Desktop\\billy_job_application\\Dymon_Asia"
   ]
  },
  {
   "cell_type": "code",
   "execution_count": 2,
   "id": "3d169fed",
   "metadata": {},
   "outputs": [],
   "source": [
    "import pandas as pd\n",
    "import numpy as np\n",
    "from scipy.stats import norm\n",
    "import matplotlib.pyplot as plt"
   ]
  },
  {
   "cell_type": "code",
   "execution_count": 3,
   "id": "8f90a7a3",
   "metadata": {},
   "outputs": [],
   "source": [
    "prices = pd.read_excel('prices.xlsx')"
   ]
  },
  {
   "cell_type": "code",
   "execution_count": 4,
   "id": "73adb8b8",
   "metadata": {},
   "outputs": [
    {
     "data": {
      "text/html": [
       "<div>\n",
       "<style scoped>\n",
       "    .dataframe tbody tr th:only-of-type {\n",
       "        vertical-align: middle;\n",
       "    }\n",
       "\n",
       "    .dataframe tbody tr th {\n",
       "        vertical-align: top;\n",
       "    }\n",
       "\n",
       "    .dataframe thead th {\n",
       "        text-align: right;\n",
       "    }\n",
       "</style>\n",
       "<table border=\"1\" class=\"dataframe\">\n",
       "  <thead>\n",
       "    <tr style=\"text-align: right;\">\n",
       "      <th></th>\n",
       "      <th>Date</th>\n",
       "      <th>FB US Equity</th>\n",
       "      <th>AAPL US Equity</th>\n",
       "      <th>AMZN US Equity</th>\n",
       "      <th>NFLX US Equity</th>\n",
       "      <th>GOOG US Equity</th>\n",
       "    </tr>\n",
       "  </thead>\n",
       "  <tbody>\n",
       "    <tr>\n",
       "      <th>0</th>\n",
       "      <td>2018-12-31</td>\n",
       "      <td>131.09</td>\n",
       "      <td>39.435</td>\n",
       "      <td>1501.97</td>\n",
       "      <td>267.66</td>\n",
       "      <td>1035.61</td>\n",
       "    </tr>\n",
       "    <tr>\n",
       "      <th>1</th>\n",
       "      <td>2019-01-02</td>\n",
       "      <td>135.68</td>\n",
       "      <td>39.480</td>\n",
       "      <td>1539.13</td>\n",
       "      <td>267.66</td>\n",
       "      <td>1045.85</td>\n",
       "    </tr>\n",
       "    <tr>\n",
       "      <th>2</th>\n",
       "      <td>2019-01-03</td>\n",
       "      <td>131.74</td>\n",
       "      <td>35.548</td>\n",
       "      <td>1500.28</td>\n",
       "      <td>271.20</td>\n",
       "      <td>1016.06</td>\n",
       "    </tr>\n",
       "    <tr>\n",
       "      <th>3</th>\n",
       "      <td>2019-01-04</td>\n",
       "      <td>137.95</td>\n",
       "      <td>37.065</td>\n",
       "      <td>1575.39</td>\n",
       "      <td>297.57</td>\n",
       "      <td>1070.71</td>\n",
       "    </tr>\n",
       "    <tr>\n",
       "      <th>4</th>\n",
       "      <td>2019-01-07</td>\n",
       "      <td>138.05</td>\n",
       "      <td>36.983</td>\n",
       "      <td>1629.51</td>\n",
       "      <td>315.34</td>\n",
       "      <td>1068.39</td>\n",
       "    </tr>\n",
       "  </tbody>\n",
       "</table>\n",
       "</div>"
      ],
      "text/plain": [
       "        Date  FB US Equity  AAPL US Equity  AMZN US Equity  NFLX US Equity  \\\n",
       "0 2018-12-31        131.09          39.435         1501.97          267.66   \n",
       "1 2019-01-02        135.68          39.480         1539.13          267.66   \n",
       "2 2019-01-03        131.74          35.548         1500.28          271.20   \n",
       "3 2019-01-04        137.95          37.065         1575.39          297.57   \n",
       "4 2019-01-07        138.05          36.983         1629.51          315.34   \n",
       "\n",
       "   GOOG US Equity  \n",
       "0         1035.61  \n",
       "1         1045.85  \n",
       "2         1016.06  \n",
       "3         1070.71  \n",
       "4         1068.39  "
      ]
     },
     "execution_count": 4,
     "metadata": {},
     "output_type": "execute_result"
    }
   ],
   "source": [
    "prices.head(5)"
   ]
  },
  {
   "cell_type": "code",
   "execution_count": 5,
   "id": "d9f4b7fb",
   "metadata": {},
   "outputs": [
    {
     "name": "stdout",
     "output_type": "stream",
     "text": [
      "0      131.09\n",
      "1      135.68\n",
      "2      131.74\n",
      "3      137.95\n",
      "4      138.05\n",
      "        ...  \n",
      "501    267.40\n",
      "502    277.00\n",
      "503    276.78\n",
      "504    271.87\n",
      "505    273.16\n",
      "Name: FB US Equity, Length: 506, dtype: float64\n"
     ]
    }
   ],
   "source": [
    "FB = prices[\"FB US Equity\"]\n",
    "AAPL = prices[\"AAPL US Equity\"]\n",
    "AMZN = prices[\"AMZN US Equity\"]\n",
    "NFLX = prices[\"NFLX US Equity\"]\n",
    "GOOG = prices[\"GOOG US Equity\"]\n",
    "print(FB)"
   ]
  },
  {
   "cell_type": "code",
   "execution_count": null,
   "id": "cb8547e6",
   "metadata": {},
   "outputs": [],
   "source": [
    "# Q1 "
   ]
  },
  {
   "cell_type": "code",
   "execution_count": 6,
   "id": "4cb0b335",
   "metadata": {},
   "outputs": [],
   "source": [
    "FB_daily_returns = FB.pct_change()\n",
    "AAPL_daily_returns = AAPL.pct_change()\n",
    "AMZN_daily_returns = AMZN.pct_change()\n",
    "NFLX_daily_returns = NFLX.pct_change()\n",
    "GOOG_daily_returns = GOOG.pct_change()"
   ]
  },
  {
   "cell_type": "code",
   "execution_count": null,
   "id": "6925ac36",
   "metadata": {},
   "outputs": [],
   "source": [
    "# Q2 "
   ]
  },
  {
   "cell_type": "code",
   "execution_count": 7,
   "id": "8c03321f",
   "metadata": {},
   "outputs": [
    {
     "name": "stdout",
     "output_type": "stream",
     "text": [
      "     FB US Equity  AAPL US Equity  AMZN US Equity  NFLX US Equity  \\\n",
      "0             NaN             NaN             NaN             NaN   \n",
      "1        0.035014        0.001141        0.024741        0.000000   \n",
      "2       -0.029039       -0.099595       -0.025242        0.013226   \n",
      "3        0.047138        0.042675        0.050064        0.097235   \n",
      "4        0.000725       -0.002212        0.034353        0.059717   \n",
      "..            ...             ...             ...             ...   \n",
      "501     -0.002648        0.007712       -0.003949       -0.000991   \n",
      "502      0.035901        0.035766        0.035071        0.010020   \n",
      "503     -0.000794       -0.013315        0.011584        0.022634   \n",
      "504     -0.017740       -0.008527       -0.010882       -0.011830   \n",
      "505      0.004745       -0.007703       -0.008801        0.030767   \n",
      "\n",
      "     GOOG US Equity  \n",
      "0               NaN  \n",
      "1          0.009888  \n",
      "2         -0.028484  \n",
      "3          0.053786  \n",
      "4         -0.002167  \n",
      "..              ...  \n",
      "501        0.003735  \n",
      "502        0.021416  \n",
      "503       -0.009780  \n",
      "504       -0.010917  \n",
      "505        0.007105  \n",
      "\n",
      "[506 rows x 5 columns]\n",
      "                FB US Equity  AAPL US Equity  AMZN US Equity  NFLX US Equity  \\\n",
      "FB US Equity        1.000000        0.691989        0.665265        0.522210   \n",
      "AAPL US Equity      0.691989        1.000000        0.670520        0.503074   \n",
      "AMZN US Equity      0.665265        0.670520        1.000000        0.631316   \n",
      "NFLX US Equity      0.522210        0.503074        0.631316        1.000000   \n",
      "GOOG US Equity      0.737472        0.700623        0.661136        0.502176   \n",
      "\n",
      "                GOOG US Equity  \n",
      "FB US Equity          0.737472  \n",
      "AAPL US Equity        0.700623  \n",
      "AMZN US Equity        0.661136  \n",
      "NFLX US Equity        0.502176  \n",
      "GOOG US Equity        1.000000  \n"
     ]
    }
   ],
   "source": [
    "combined_returns = pd.concat([FB_daily_returns, AAPL_daily_returns,AMZN_daily_returns,NFLX_daily_returns,GOOG_daily_returns], axis=1)\n",
    "print(combined_returns)\n",
    "corrMatrix = combined_returns.corr()\n",
    "print(corrMatrix)"
   ]
  },
  {
   "cell_type": "code",
   "execution_count": null,
   "id": "cdbd874e",
   "metadata": {},
   "outputs": [],
   "source": [
    "# Q3 "
   ]
  },
  {
   "cell_type": "code",
   "execution_count": 8,
   "id": "936602b8",
   "metadata": {},
   "outputs": [
    {
     "name": "stdout",
     "output_type": "stream",
     "text": [
      "FB US Equity      0.001741\n",
      "AAPL US Equity    0.002690\n",
      "AMZN US Equity    0.001732\n",
      "NFLX US Equity    0.001723\n",
      "GOOG US Equity    0.001245\n",
      "dtype: float64\n"
     ]
    }
   ],
   "source": [
    "average_return = combined_returns.mean()\n",
    "print(average_return)"
   ]
  },
  {
   "cell_type": "code",
   "execution_count": 9,
   "id": "9d22c478",
   "metadata": {},
   "outputs": [
    {
     "name": "stdout",
     "output_type": "stream",
     "text": [
      "0.0018260773980859008\n"
     ]
    }
   ],
   "source": [
    "weights = np.array([0.2,0.2,0.2,0.2,0.2])\n",
    "portfolio_mean = average_return.dot(weights)\n",
    "print(portfolio_mean)"
   ]
  },
  {
   "cell_type": "code",
   "execution_count": 10,
   "id": "61f41a1d",
   "metadata": {},
   "outputs": [
    {
     "name": "stdout",
     "output_type": "stream",
     "text": [
      "                FB US Equity  AAPL US Equity  AMZN US Equity  NFLX US Equity  \\\n",
      "FB US Equity        0.000572        0.000394        0.000318        0.000321   \n",
      "AAPL US Equity      0.000394        0.000567        0.000319        0.000308   \n",
      "AMZN US Equity      0.000318        0.000319        0.000399        0.000324   \n",
      "NFLX US Equity      0.000321        0.000308        0.000324        0.000661   \n",
      "GOOG US Equity      0.000356        0.000337        0.000266        0.000260   \n",
      "\n",
      "                GOOG US Equity  \n",
      "FB US Equity          0.000356  \n",
      "AAPL US Equity        0.000337  \n",
      "AMZN US Equity        0.000266  \n",
      "NFLX US Equity        0.000260  \n",
      "GOOG US Equity        0.000407  \n",
      "0.018984007580331416\n"
     ]
    }
   ],
   "source": [
    "CoVarMatrix = combined_returns.cov()\n",
    "print(CoVarMatrix)\n",
    "portfolio_SD = (weights @ CoVarMatrix @ weights.T) ** (0.5)\n",
    "print(portfolio_SD)"
   ]
  },
  {
   "cell_type": "code",
   "execution_count": 11,
   "id": "1ec7930e",
   "metadata": {},
   "outputs": [],
   "source": [
    "x = np.arange(-0.05,0.05,0.001)\n",
    "normal_distribution = norm.pdf(x,portfolio_mean,portfolio_SD)"
   ]
  },
  {
   "cell_type": "code",
   "execution_count": 12,
   "id": "4d5f02dd",
   "metadata": {},
   "outputs": [
    {
     "name": "stdout",
     "output_type": "stream",
     "text": [
      "The 99% 1-day V@R 4.233732827719329 %\n"
     ]
    }
   ],
   "source": [
    "confidence_interval = 0.01 \n",
    "VaR = norm.ppf(confidence_interval,portfolio_mean,portfolio_SD)\n",
    "VaR\n",
    "print('The 99% 1-day V@R', -100* VaR , '%')\n",
    "# since VaR is assume as a negative value, so i multiple -1 in the conclusion"
   ]
  },
  {
   "cell_type": "code",
   "execution_count": null,
   "id": "806ed97e",
   "metadata": {},
   "outputs": [],
   "source": [
    "# Q4"
   ]
  },
  {
   "cell_type": "code",
   "execution_count": 13,
   "id": "38f0dd6e",
   "metadata": {},
   "outputs": [
    {
     "data": {
      "text/plain": [
       "0           NaN\n",
       "1      1.014157\n",
       "2      0.979851\n",
       "3      1.036859\n",
       "4      1.055608\n",
       "         ...   \n",
       "501    2.242778\n",
       "502    2.304757\n",
       "503    2.309518\n",
       "504    2.281852\n",
       "505    2.293769\n",
       "Length: 506, dtype: float64"
      ]
     },
     "execution_count": 13,
     "metadata": {},
     "output_type": "execute_result"
    }
   ],
   "source": [
    "port_return = combined_returns @ weights\n",
    "port_return\n",
    "cumulative_ret = (port_return + 1).cumprod()\n",
    "cumulative_ret"
   ]
  },
  {
   "cell_type": "code",
   "execution_count": 14,
   "id": "ee9745d5",
   "metadata": {},
   "outputs": [
    {
     "data": {
      "image/png": "[encoded data removed]",
      "text/plain": [
       "<Figure size 432x288 with 1 Axes>"
      ]
     },
     "metadata": {
      "needs_background": "light"
     },
     "output_type": "display_data"
    }
   ],
   "source": [
    "Cum_result_fig = plt.figure()\n",
    "ax1 = Cum_result_fig.add_axes([0.1,0.1,0.8,0.8])\n",
    "ax1.plot(cumulative_ret)\n",
    "ax1.set_xlabel('Day')\n",
    "ax1.set_ylabel(\"Cumulative Returns\")\n",
    "ax1.set_title(\"Portfolio Cumulative Returns\")\n",
    "plt.show();"
   ]
  },
  {
   "cell_type": "code",
   "execution_count": null,
   "id": "96efbe31",
   "metadata": {},
   "outputs": [],
   "source": [
    "# Q5"
   ]
  },
  {
   "cell_type": "code",
   "execution_count": 15,
   "id": "01a5032a",
   "metadata": {},
   "outputs": [],
   "source": [
    "occurrences_1 = (port_return < -0.01).sum()\n",
    "occurrences_2 = ((port_return > -0.01) & (port_return < -0.005)).sum()\n",
    "occurrences_3 = ((port_return > -0.005) & (port_return < 0)).sum()\n",
    "occurrences_4 = ((port_return > 0) & (port_return < 0.005)).sum()\n",
    "occurrences_5 = ((port_return > 0.005) & (port_return < 0.01)).sum()\n",
    "occurrences_6 = (port_return > 0.01).sum()\n",
    "sum_occurrence = len(port_return)-1"
   ]
  },
  {
   "cell_type": "code",
   "execution_count": 16,
   "id": "34c5d463",
   "metadata": {},
   "outputs": [
    {
     "name": "stdout",
     "output_type": "stream",
     "text": [
      "+-------------+------------+-------------------+------------------+------------------+-------------------+-----------+\n",
      "|             | Ret < -1%  | -1% < Ret < -0.5% | -0.5% < Ret < 0% | 0% < Ret < 0.5%  |  0.5% < Ret < 1%  |  Ret > 1% |\n",
      "+-------------+------------+-------------------+------------------+------------------+-------------------+-----------+\n",
      "| # of Events |     94     |         52        |        56        |        91        |         70        |    142    |\n",
      "| % of Events |   18.61    |        10.3       |      11.09       |      18.02       |       13.86       |   28.12   |\n",
      "+-------------+------------+-------------------+------------------+------------------+-------------------+-----------+\n"
     ]
    }
   ],
   "source": [
    "from prettytable import PrettyTable \n",
    "myTable = PrettyTable([\"     \",\"Ret < -1% \", \"-1% < Ret < -0.5%\", \"-0.5% < Ret < 0%\", \"0% < Ret < 0.5% \", \" 0.5% < Ret < 1% \", \" Ret > 1%\"]) \n",
    "myTable.add_row([\"# of Events\",occurrences_1, occurrences_2, occurrences_3,occurrences_4,occurrences_5,occurrences_6]) \n",
    "myTable.add_row([\"% of Events\",round((occurrences_1/sum_occurrence*100),2), round((occurrences_2/sum_occurrence*100),2)\n",
    "                 , round((occurrences_3/sum_occurrence*100),2),round((occurrences_4/sum_occurrence*100),2)\n",
    "                 ,round((occurrences_5/sum_occurrence*100),2),round((occurrences_6/sum_occurrence*100),2)]) \n",
    "print(myTable)"
   ]
  },
  {
   "cell_type": "code",
   "execution_count": 17,
   "id": "0af15cdd",
   "metadata": {
    "scrolled": false
   },
   "outputs": [
    {
     "data": {
      "text/plain": [
       "<BarContainer object of 6 artists>"
      ]
     },
     "execution_count": 17,
     "metadata": {},
     "output_type": "execute_result"
    },
    {
     "data": {
      "image/png": "[encoded data removed]",
      "text/plain": [
       "<Figure size 864x720 with 1 Axes>"
      ]
     },
     "metadata": {
      "needs_background": "light"
     },
     "output_type": "display_data"
    }
   ],
   "source": [
    "marks=[occurrences_1,occurrences_2,occurrences_3,occurrences_4,occurrences_5,occurrences_6]\n",
    "bars=('Ret < -1% ','-1% < Ret < -0.5%','-0.5% < Ret < 0%', \"0% < Ret < 0.5% \", \" 0.5% < Ret < 1% \", \" Ret > 1%\")\n",
    "Cum_result_fig = plt.figure(figsize=(12,10))\n",
    "plt.bar(bars,marks)"
   ]
  },
  {
   "cell_type": "code",
   "execution_count": null,
   "id": "68f791da",
   "metadata": {},
   "outputs": [],
   "source": []
  }
 ],
 "metadata": {
  "kernelspec": {
   "display_name": "Python 3",
   "language": "python",
   "name": "python3"
  },
  "language_info": {
   "codemirror_mode": {
    "name": "ipython",
    "version": 3
   },
   "file_extension": ".py",
   "mimetype": "text/x-python",
   "name": "python",
   "nbconvert_exporter": "python",
   "pygments_lexer": "ipython3",
   "version": "3.8.8"
  }
 },
 "nbformat": 4,
 "nbformat_minor": 5
}
